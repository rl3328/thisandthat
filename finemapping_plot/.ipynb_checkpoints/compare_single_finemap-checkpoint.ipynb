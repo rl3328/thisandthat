{
 "cells": [
  {
   "cell_type": "markdown",
   "id": "97d06b1a-e233-426f-a999-a693a2e3db57",
   "metadata": {
    "kernel": "SoS"
   },
   "source": [
    "# Create meta_file that contains path to rds files"
   ]
  },
  {
   "cell_type": "code",
   "execution_count": 1,
   "id": "924fb49b-69c9-4d28-8a32-4100d8eeef9a",
   "metadata": {
    "kernel": "R"
   },
   "outputs": [
    {
     "name": "stderr",
     "output_type": "stream",
     "text": [
      "Warning message:\n",
      "\"package 'purrr' was built under R version 4.4.2\"\n",
      "-- \u001b[1mAttaching core tidyverse packages\u001b[22m ------------------------ tidyverse 2.0.0 --\n",
      "\u001b[32mv\u001b[39m \u001b[34mdplyr    \u001b[39m 1.1.4     \u001b[32mv\u001b[39m \u001b[34mreadr    \u001b[39m 2.1.5\n",
      "\u001b[32mv\u001b[39m \u001b[34mforcats  \u001b[39m 1.0.0     \u001b[32mv\u001b[39m \u001b[34mstringr  \u001b[39m 1.5.1\n",
      "\u001b[32mv\u001b[39m \u001b[34mggplot2  \u001b[39m 3.5.1     \u001b[32mv\u001b[39m \u001b[34mtibble   \u001b[39m 3.2.1\n",
      "\u001b[32mv\u001b[39m \u001b[34mlubridate\u001b[39m 1.9.4     \u001b[32mv\u001b[39m \u001b[34mtidyr    \u001b[39m 1.3.1\n",
      "\u001b[32mv\u001b[39m \u001b[34mpurrr    \u001b[39m 1.0.4     \n",
      "-- \u001b[1mConflicts\u001b[22m ------------------------------------------ tidyverse_conflicts() --\n",
      "\u001b[31mx\u001b[39m \u001b[34mdplyr\u001b[39m::\u001b[32mbetween()\u001b[39m     masks \u001b[34mdata.table\u001b[39m::between()\n",
      "\u001b[31mx\u001b[39m \u001b[34mdplyr\u001b[39m::\u001b[32mfilter()\u001b[39m      masks \u001b[34mstats\u001b[39m::filter()\n",
      "\u001b[31mx\u001b[39m \u001b[34mdplyr\u001b[39m::\u001b[32mfirst()\u001b[39m       masks \u001b[34mdata.table\u001b[39m::first()\n",
      "\u001b[31mx\u001b[39m \u001b[34mlubridate\u001b[39m::\u001b[32mhour()\u001b[39m    masks \u001b[34mdata.table\u001b[39m::hour()\n",
      "\u001b[31mx\u001b[39m \u001b[34mlubridate\u001b[39m::\u001b[32misoweek()\u001b[39m masks \u001b[34mdata.table\u001b[39m::isoweek()\n",
      "\u001b[31mx\u001b[39m \u001b[34mdplyr\u001b[39m::\u001b[32mlag()\u001b[39m         masks \u001b[34mstats\u001b[39m::lag()\n",
      "\u001b[31mx\u001b[39m \u001b[34mdplyr\u001b[39m::\u001b[32mlast()\u001b[39m        masks \u001b[34mdata.table\u001b[39m::last()\n",
      "\u001b[31mx\u001b[39m \u001b[34mlubridate\u001b[39m::\u001b[32mmday()\u001b[39m    masks \u001b[34mdata.table\u001b[39m::mday()\n",
      "\u001b[31mx\u001b[39m \u001b[34mlubridate\u001b[39m::\u001b[32mminute()\u001b[39m  masks \u001b[34mdata.table\u001b[39m::minute()\n",
      "\u001b[31mx\u001b[39m \u001b[34mlubridate\u001b[39m::\u001b[32mmonth()\u001b[39m   masks \u001b[34mdata.table\u001b[39m::month()\n",
      "\u001b[31mx\u001b[39m \u001b[34mlubridate\u001b[39m::\u001b[32mquarter()\u001b[39m masks \u001b[34mdata.table\u001b[39m::quarter()\n",
      "\u001b[31mx\u001b[39m \u001b[34mlubridate\u001b[39m::\u001b[32msecond()\u001b[39m  masks \u001b[34mdata.table\u001b[39m::second()\n",
      "\u001b[31mx\u001b[39m \u001b[34mpurrr\u001b[39m::\u001b[32mtranspose()\u001b[39m   masks \u001b[34mdata.table\u001b[39m::transpose()\n",
      "\u001b[31mx\u001b[39m \u001b[34mlubridate\u001b[39m::\u001b[32mwday()\u001b[39m    masks \u001b[34mdata.table\u001b[39m::wday()\n",
      "\u001b[31mx\u001b[39m \u001b[34mlubridate\u001b[39m::\u001b[32mweek()\u001b[39m    masks \u001b[34mdata.table\u001b[39m::week()\n",
      "\u001b[31mx\u001b[39m \u001b[34mlubridate\u001b[39m::\u001b[32myday()\u001b[39m    masks \u001b[34mdata.table\u001b[39m::yday()\n",
      "\u001b[31mx\u001b[39m \u001b[34mlubridate\u001b[39m::\u001b[32myear()\u001b[39m    masks \u001b[34mdata.table\u001b[39m::year()\n",
      "\u001b[36mi\u001b[39m Use the conflicted package (\u001b[3m\u001b[34m<http://conflicted.r-lib.org/>\u001b[39m\u001b[23m) to force all conflicts to become errors\n"
     ]
    }
   ],
   "source": [
    "library(data.table)\n",
    "library(tidyverse)"
   ]
  },
  {
   "cell_type": "code",
   "execution_count": 2,
   "id": "67fb653d-96d6-4579-921b-41d9bfeca99f",
   "metadata": {
    "kernel": "R"
   },
   "outputs": [],
   "source": [
    "all_gwas = fread(\"~/data/GWAS/AD_GWAS/ADGWAS.union_export.tsv.gz\")"
   ]
  },
  {
   "cell_type": "code",
   "execution_count": 3,
   "id": "75edcf4a-a8fb-4790-af49-5f499414aa74",
   "metadata": {
    "kernel": "R"
   },
   "outputs": [],
   "source": [
    "# Define the list of studies\n",
    "studies = c(\n",
    "  \"AD_Bellenguez_2022\",\n",
    "  \"AD_Bellenguez_EADB_2022\",\n",
    "  \"AD_Bellenguez_EADI_2022\",\n",
    "  # \"AD_Bellenguez_GRACE_2022\",\n",
    "  \"AD_Jansen_2021\",\n",
    "  \"AD_Kunkle_Stage1_2019\",\n",
    "  \"AD_Wightman_Excluding23andMe_2021\",\n",
    "  \"AD_Wightman_ExcludingUKBand23andME_2021\",\n",
    "  \"AD_Wightman_Full_2021\"\n",
    ")"
   ]
  },
  {
   "cell_type": "code",
   "execution_count": 4,
   "id": "0413b27d-82cf-4eb0-a526-1fb85ed94e90",
   "metadata": {
    "kernel": "R"
   },
   "outputs": [],
   "source": [
    "AD_data = all_gwas |> filter(study %in% studies, coverage == \"top_loci_95\")"
   ]
  },
  {
   "cell_type": "code",
   "execution_count": 5,
   "id": "e7b20f61-2f1b-43c1-98bc-f5c77239f0df",
   "metadata": {
    "kernel": "R"
   },
   "outputs": [],
   "source": [
    "AD_data = AD_data |> mutate(block = gsub(\"-\", \"_\", block),\n",
    "                            study_block = paste0(study,\":\",block))"
   ]
  },
  {
   "cell_type": "code",
   "execution_count": 6,
   "id": "c565d3fa-f4c9-45d5-ba05-82e6b4334f87",
   "metadata": {
    "kernel": "R"
   },
   "outputs": [
    {
     "data": {
      "text/html": [
       "<table class=\"dataframe\">\n",
       "<caption>A data.table: 6 x 19</caption>\n",
       "<thead>\n",
       "\t<tr><th scope=col>variants</th><th scope=col>cs_single_effect_regression</th><th scope=col>cs_noqc</th><th scope=col>cs_qc_impute</th><th scope=col>cs_qc_only</th><th scope=col>cs_conditional_regression_noqc</th><th scope=col>cs_conditional_regression_qc_impute</th><th scope=col>cs_conditional_regression_qc_only</th><th scope=col>coverage</th><th scope=col>pip_single_effect_regression</th><th scope=col>pip_noqc</th><th scope=col>pip_qc_impute</th><th scope=col>pip_qc_only</th><th scope=col>pip_conditional_regression_noqc</th><th scope=col>pip_conditional_regression_qc_impute</th><th scope=col>pip_conditional_regression_qc_only</th><th scope=col>study</th><th scope=col>block</th><th scope=col>study_block</th></tr>\n",
       "\t<tr><th scope=col>&lt;chr&gt;</th><th scope=col>&lt;int&gt;</th><th scope=col>&lt;int&gt;</th><th scope=col>&lt;int&gt;</th><th scope=col>&lt;int&gt;</th><th scope=col>&lt;int&gt;</th><th scope=col>&lt;int&gt;</th><th scope=col>&lt;int&gt;</th><th scope=col>&lt;chr&gt;</th><th scope=col>&lt;dbl&gt;</th><th scope=col>&lt;dbl&gt;</th><th scope=col>&lt;dbl&gt;</th><th scope=col>&lt;dbl&gt;</th><th scope=col>&lt;dbl&gt;</th><th scope=col>&lt;dbl&gt;</th><th scope=col>&lt;dbl&gt;</th><th scope=col>&lt;chr&gt;</th><th scope=col>&lt;chr&gt;</th><th scope=col>&lt;chr&gt;</th></tr>\n",
       "</thead>\n",
       "<tbody>\n",
       "\t<tr><td>8:94983473:C:T </td><td>1</td><td>0</td><td>1</td><td>0</td><td>1</td><td>1</td><td>1</td><td>top_loci_95</td><td>0.08845241</td><td>0.045955702</td><td>0.046885837</td><td>0.047240630</td><td>0.08899867</td><td>0.061267407</td><td>0.08899867</td><td>AD_Bellenguez_2022</td><td>8_93290173_95220317</td><td>AD_Bellenguez_2022_8_93290173_95220317</td></tr>\n",
       "\t<tr><td>8:94987509:C:CA</td><td>0</td><td>0</td><td>1</td><td>0</td><td>0</td><td>1</td><td>0</td><td>top_loci_95</td><td>        NA</td><td>         NA</td><td>0.121038250</td><td>         NA</td><td>        NA</td><td>0.157460697</td><td>        NA</td><td>AD_Bellenguez_2022</td><td>8_93290173_95220317</td><td>AD_Bellenguez_2022_8_93290173_95220317</td></tr>\n",
       "\t<tr><td>8:95008746:T:C </td><td>1</td><td>0</td><td>1</td><td>0</td><td>1</td><td>1</td><td>1</td><td>top_loci_95</td><td>0.01393901</td><td>0.008267977</td><td>0.008250387</td><td>0.009323420</td><td>0.01443862</td><td>0.009941807</td><td>0.01443862</td><td>AD_Bellenguez_2022</td><td>8_93290173_95220317</td><td>AD_Bellenguez_2022_8_93290173_95220317</td></tr>\n",
       "\t<tr><td>8:95026024:C:G </td><td>1</td><td>0</td><td>1</td><td>0</td><td>1</td><td>1</td><td>1</td><td>top_loci_95</td><td>0.01821405</td><td>0.010695903</td><td>0.010696676</td><td>0.011890104</td><td>0.01874527</td><td>0.012900527</td><td>0.01874527</td><td>AD_Bellenguez_2022</td><td>8_93290173_95220317</td><td>AD_Bellenguez_2022_8_93290173_95220317</td></tr>\n",
       "\t<tr><td>8:95038329:T:C </td><td>1</td><td>0</td><td>1</td><td>0</td><td>1</td><td>1</td><td>1</td><td>top_loci_95</td><td>0.01304201</td><td>0.007791333</td><td>0.007760397</td><td>0.008854551</td><td>0.01354367</td><td>0.009325984</td><td>0.01354367</td><td>AD_Bellenguez_2022</td><td>8_93290173_95220317</td><td>AD_Bellenguez_2022_8_93290173_95220317</td></tr>\n",
       "\t<tr><td>8:95041772:C:T </td><td>0</td><td>0</td><td>1</td><td>0</td><td>0</td><td>1</td><td>0</td><td>top_loci_95</td><td>        NA</td><td>         NA</td><td>0.033104743</td><td>         NA</td><td>        NA</td><td>0.045904424</td><td>        NA</td><td>AD_Bellenguez_2022</td><td>8_93290173_95220317</td><td>AD_Bellenguez_2022_8_93290173_95220317</td></tr>\n",
       "</tbody>\n",
       "</table>\n"
      ],
      "text/latex": [
       "A data.table: 6 x 19\n",
       "\\begin{tabular}{lllllllllllllllllll}\n",
       " variants & cs\\_single\\_effect\\_regression & cs\\_noqc & cs\\_qc\\_impute & cs\\_qc\\_only & cs\\_conditional\\_regression\\_noqc & cs\\_conditional\\_regression\\_qc\\_impute & cs\\_conditional\\_regression\\_qc\\_only & coverage & pip\\_single\\_effect\\_regression & pip\\_noqc & pip\\_qc\\_impute & pip\\_qc\\_only & pip\\_conditional\\_regression\\_noqc & pip\\_conditional\\_regression\\_qc\\_impute & pip\\_conditional\\_regression\\_qc\\_only & study & block & study\\_block\\\\\n",
       " <chr> & <int> & <int> & <int> & <int> & <int> & <int> & <int> & <chr> & <dbl> & <dbl> & <dbl> & <dbl> & <dbl> & <dbl> & <dbl> & <chr> & <chr> & <chr>\\\\\n",
       "\\hline\n",
       "\t 8:94983473:C:T  & 1 & 0 & 1 & 0 & 1 & 1 & 1 & top\\_loci\\_95 & 0.08845241 & 0.045955702 & 0.046885837 & 0.047240630 & 0.08899867 & 0.061267407 & 0.08899867 & AD\\_Bellenguez\\_2022 & 8\\_93290173\\_95220317 & AD\\_Bellenguez\\_2022\\_8\\_93290173\\_95220317\\\\\n",
       "\t 8:94987509:C:CA & 0 & 0 & 1 & 0 & 0 & 1 & 0 & top\\_loci\\_95 &         NA &          NA & 0.121038250 &          NA &         NA & 0.157460697 &         NA & AD\\_Bellenguez\\_2022 & 8\\_93290173\\_95220317 & AD\\_Bellenguez\\_2022\\_8\\_93290173\\_95220317\\\\\n",
       "\t 8:95008746:T:C  & 1 & 0 & 1 & 0 & 1 & 1 & 1 & top\\_loci\\_95 & 0.01393901 & 0.008267977 & 0.008250387 & 0.009323420 & 0.01443862 & 0.009941807 & 0.01443862 & AD\\_Bellenguez\\_2022 & 8\\_93290173\\_95220317 & AD\\_Bellenguez\\_2022\\_8\\_93290173\\_95220317\\\\\n",
       "\t 8:95026024:C:G  & 1 & 0 & 1 & 0 & 1 & 1 & 1 & top\\_loci\\_95 & 0.01821405 & 0.010695903 & 0.010696676 & 0.011890104 & 0.01874527 & 0.012900527 & 0.01874527 & AD\\_Bellenguez\\_2022 & 8\\_93290173\\_95220317 & AD\\_Bellenguez\\_2022\\_8\\_93290173\\_95220317\\\\\n",
       "\t 8:95038329:T:C  & 1 & 0 & 1 & 0 & 1 & 1 & 1 & top\\_loci\\_95 & 0.01304201 & 0.007791333 & 0.007760397 & 0.008854551 & 0.01354367 & 0.009325984 & 0.01354367 & AD\\_Bellenguez\\_2022 & 8\\_93290173\\_95220317 & AD\\_Bellenguez\\_2022\\_8\\_93290173\\_95220317\\\\\n",
       "\t 8:95041772:C:T  & 0 & 0 & 1 & 0 & 0 & 1 & 0 & top\\_loci\\_95 &         NA &          NA & 0.033104743 &          NA &         NA & 0.045904424 &         NA & AD\\_Bellenguez\\_2022 & 8\\_93290173\\_95220317 & AD\\_Bellenguez\\_2022\\_8\\_93290173\\_95220317\\\\\n",
       "\\end{tabular}\n"
      ],
      "text/markdown": [
       "\n",
       "A data.table: 6 x 19\n",
       "\n",
       "| variants &lt;chr&gt; | cs_single_effect_regression &lt;int&gt; | cs_noqc &lt;int&gt; | cs_qc_impute &lt;int&gt; | cs_qc_only &lt;int&gt; | cs_conditional_regression_noqc &lt;int&gt; | cs_conditional_regression_qc_impute &lt;int&gt; | cs_conditional_regression_qc_only &lt;int&gt; | coverage &lt;chr&gt; | pip_single_effect_regression &lt;dbl&gt; | pip_noqc &lt;dbl&gt; | pip_qc_impute &lt;dbl&gt; | pip_qc_only &lt;dbl&gt; | pip_conditional_regression_noqc &lt;dbl&gt; | pip_conditional_regression_qc_impute &lt;dbl&gt; | pip_conditional_regression_qc_only &lt;dbl&gt; | study &lt;chr&gt; | block &lt;chr&gt; | study_block &lt;chr&gt; |\n",
       "|---|---|---|---|---|---|---|---|---|---|---|---|---|---|---|---|---|---|---|\n",
       "| 8:94983473:C:T  | 1 | 0 | 1 | 0 | 1 | 1 | 1 | top_loci_95 | 0.08845241 | 0.045955702 | 0.046885837 | 0.047240630 | 0.08899867 | 0.061267407 | 0.08899867 | AD_Bellenguez_2022 | 8_93290173_95220317 | AD_Bellenguez_2022_8_93290173_95220317 |\n",
       "| 8:94987509:C:CA | 0 | 0 | 1 | 0 | 0 | 1 | 0 | top_loci_95 |         NA |          NA | 0.121038250 |          NA |         NA | 0.157460697 |         NA | AD_Bellenguez_2022 | 8_93290173_95220317 | AD_Bellenguez_2022_8_93290173_95220317 |\n",
       "| 8:95008746:T:C  | 1 | 0 | 1 | 0 | 1 | 1 | 1 | top_loci_95 | 0.01393901 | 0.008267977 | 0.008250387 | 0.009323420 | 0.01443862 | 0.009941807 | 0.01443862 | AD_Bellenguez_2022 | 8_93290173_95220317 | AD_Bellenguez_2022_8_93290173_95220317 |\n",
       "| 8:95026024:C:G  | 1 | 0 | 1 | 0 | 1 | 1 | 1 | top_loci_95 | 0.01821405 | 0.010695903 | 0.010696676 | 0.011890104 | 0.01874527 | 0.012900527 | 0.01874527 | AD_Bellenguez_2022 | 8_93290173_95220317 | AD_Bellenguez_2022_8_93290173_95220317 |\n",
       "| 8:95038329:T:C  | 1 | 0 | 1 | 0 | 1 | 1 | 1 | top_loci_95 | 0.01304201 | 0.007791333 | 0.007760397 | 0.008854551 | 0.01354367 | 0.009325984 | 0.01354367 | AD_Bellenguez_2022 | 8_93290173_95220317 | AD_Bellenguez_2022_8_93290173_95220317 |\n",
       "| 8:95041772:C:T  | 0 | 0 | 1 | 0 | 0 | 1 | 0 | top_loci_95 |         NA |          NA | 0.033104743 |          NA |         NA | 0.045904424 |         NA | AD_Bellenguez_2022 | 8_93290173_95220317 | AD_Bellenguez_2022_8_93290173_95220317 |\n",
       "\n"
      ],
      "text/plain": [
       "  variants        cs_single_effect_regression cs_noqc cs_qc_impute cs_qc_only\n",
       "1 8:94983473:C:T  1                           0       1            0         \n",
       "2 8:94987509:C:CA 0                           0       1            0         \n",
       "3 8:95008746:T:C  1                           0       1            0         \n",
       "4 8:95026024:C:G  1                           0       1            0         \n",
       "5 8:95038329:T:C  1                           0       1            0         \n",
       "6 8:95041772:C:T  0                           0       1            0         \n",
       "  cs_conditional_regression_noqc cs_conditional_regression_qc_impute\n",
       "1 1                              1                                  \n",
       "2 0                              1                                  \n",
       "3 1                              1                                  \n",
       "4 1                              1                                  \n",
       "5 1                              1                                  \n",
       "6 0                              1                                  \n",
       "  cs_conditional_regression_qc_only coverage    pip_single_effect_regression\n",
       "1 1                                 top_loci_95 0.08845241                  \n",
       "2 0                                 top_loci_95         NA                  \n",
       "3 1                                 top_loci_95 0.01393901                  \n",
       "4 1                                 top_loci_95 0.01821405                  \n",
       "5 1                                 top_loci_95 0.01304201                  \n",
       "6 0                                 top_loci_95         NA                  \n",
       "  pip_noqc    pip_qc_impute pip_qc_only pip_conditional_regression_noqc\n",
       "1 0.045955702 0.046885837   0.047240630 0.08899867                     \n",
       "2          NA 0.121038250            NA         NA                     \n",
       "3 0.008267977 0.008250387   0.009323420 0.01443862                     \n",
       "4 0.010695903 0.010696676   0.011890104 0.01874527                     \n",
       "5 0.007791333 0.007760397   0.008854551 0.01354367                     \n",
       "6          NA 0.033104743            NA         NA                     \n",
       "  pip_conditional_regression_qc_impute pip_conditional_regression_qc_only\n",
       "1 0.061267407                          0.08899867                        \n",
       "2 0.157460697                                  NA                        \n",
       "3 0.009941807                          0.01443862                        \n",
       "4 0.012900527                          0.01874527                        \n",
       "5 0.009325984                          0.01354367                        \n",
       "6 0.045904424                                  NA                        \n",
       "  study              block               study_block                           \n",
       "1 AD_Bellenguez_2022 8_93290173_95220317 AD_Bellenguez_2022_8_93290173_95220317\n",
       "2 AD_Bellenguez_2022 8_93290173_95220317 AD_Bellenguez_2022_8_93290173_95220317\n",
       "3 AD_Bellenguez_2022 8_93290173_95220317 AD_Bellenguez_2022_8_93290173_95220317\n",
       "4 AD_Bellenguez_2022 8_93290173_95220317 AD_Bellenguez_2022_8_93290173_95220317\n",
       "5 AD_Bellenguez_2022 8_93290173_95220317 AD_Bellenguez_2022_8_93290173_95220317\n",
       "6 AD_Bellenguez_2022 8_93290173_95220317 AD_Bellenguez_2022_8_93290173_95220317"
      ]
     },
     "metadata": {},
     "output_type": "display_data"
    }
   ],
   "source": [
    "tail(AD_data)"
   ]
  },
  {
   "cell_type": "code",
   "execution_count": 7,
   "id": "f9962fe5-39be-48f0-a2b1-568bb9028d58",
   "metadata": {
    "kernel": "R"
   },
   "outputs": [],
   "source": [
    "single_data = AD_data |> filter(cs_single_effect_regression != 0)\n",
    "fine_map_data = AD_data |> filter(cs_qc_impute != 0)"
   ]
  },
  {
   "cell_type": "code",
   "execution_count": 8,
   "id": "fffd73c6-2257-4c35-9e16-2fce8c5420d2",
   "metadata": {
    "kernel": "R"
   },
   "outputs": [],
   "source": [
    "single_only = unique(setdiff(single_data$study_block, fine_map_data$study_block))\n",
    "finemap_only = unique(setdiff(fine_map_data$study_block, single_data$study_block))\n",
    "both = unique(intersect(single_data$study_block, fine_map_data$study_block))"
   ]
  },
  {
   "cell_type": "code",
   "execution_count": 9,
   "id": "6357c6a3-75bd-4f18-a797-c9ab276ca791",
   "metadata": {
    "kernel": "R"
   },
   "outputs": [],
   "source": [
    "\n",
    "\n",
    "# Function to split study_block into study and block\n",
    "split_study_block = function(df) {\n",
    "  df %>%\n",
    "    mutate(\n",
    "      study = str_extract(study_block, \"^[^:]+\"),  # Extract part before ':'\n",
    "      block = str_extract(study_block, \"(?<=:).*\"), # Extract part after ':'\n",
    "      chrom = str_extract(block, \"^[^_]+\")\n",
    "    )\n",
    "}\n",
    "\n",
    "# Create data for each category\n",
    "# Create dataframes and apply split_study_block\n",
    "df_single_only = data.frame(\n",
    "  study_block = single_only) %>% split_study_block() %>%\n",
    "  mutate(\n",
    "    single_path = paste0(\"analysis_result/AD_GWAS_finemapping/NoQC_single_effect/\", block, \".noQC.univariate_single_effect.rds\"),\n",
    "    finemap_path = NA\n",
    "  )\n",
    "\n",
    "df_finemap_only = data.frame(\n",
    "  study_block = finemap_only) %>% split_study_block() %>%\n",
    "  mutate(\n",
    "    single_path = NA,\n",
    "    finemap_path = paste0(\"GWAS/finemapping/2024_04/RSS_QC_RAISS_imputed.chr\", block, \".univariate_susie_rss.rds\")\n",
    "  )\n",
    "\n",
    "df_both = data.frame(\n",
    "  study_block = both) %>% split_study_block() %>%\n",
    "  mutate(\n",
    "    single_path = paste0(\"analysis_result/AD_GWAS_finemapping/NoQC_single_effect/\", block, \".noQC.univariate_single_effect.rds\"),\n",
    "    finemap_path = paste0(\"GWAS/finemapping/2024_04/RSS_QC_RAISS_imputed.chr\", block, \".univariate_susie_rss.rds\")\n",
    "  )\n",
    "\n",
    "# Combine all dataframes\n",
    "meta_file_cloud = bind_rows(df_single_only, df_finemap_only, df_both) |> select(-study_block)\n",
    "meta_file_cloud$single_path <- sapply(meta_file_cloud$single_path, function(path) {\n",
    "  # Extract the basename\n",
    "  basename <- basename(path)\n",
    "  \n",
    "  # Replace the second underscore with a dash in the basename\n",
    "  new_basename <- sub(\"^([^_]+_[^_]+)_\", \"\\\\1-\", basename)\n",
    "  \n",
    "  # Replace the old basename with the new one in the full path\n",
    "  sub(basename, new_basename, path)\n",
    "})\n",
    "fwrite(meta_file_cloud, \"meta_file_cloud.tsv\", sep = '\\t')"
   ]
  },
  {
   "cell_type": "code",
   "execution_count": 13,
   "id": "f5a6c878-031c-457a-8a5f-fbe891587dfa",
   "metadata": {
    "kernel": "R"
   },
   "outputs": [
    {
     "data": {
      "text/html": [
       "<table class=\"dataframe\">\n",
       "<caption>A data.frame: 6 x 5</caption>\n",
       "<thead>\n",
       "\t<tr><th></th><th scope=col>study</th><th scope=col>block</th><th scope=col>chrom</th><th scope=col>single_path</th><th scope=col>finemap_path</th></tr>\n",
       "\t<tr><th></th><th scope=col>&lt;chr&gt;</th><th scope=col>&lt;chr&gt;</th><th scope=col>&lt;chr&gt;</th><th scope=col>&lt;chr&gt;</th><th scope=col>&lt;chr&gt;</th></tr>\n",
       "</thead>\n",
       "<tbody>\n",
       "\t<tr><th scope=row>234</th><td>AD_Jansen_2021                         </td><td>8_27515963_29469590</td><td>8</td><td>analysis_result/AD_GWAS_finemapping/NoQC_single_effect/8_27515963-29469590.noQC.univariate_single_effect.rds</td><td>GWAS/finemapping/2024_04/RSS_QC_RAISS_imputed.chr8_27515963_29469590.univariate_susie_rss.rds</td></tr>\n",
       "\t<tr><th scope=row>235</th><td>AD_Kunkle_Stage1_2019                  </td><td>8_27515963_29469590</td><td>8</td><td>analysis_result/AD_GWAS_finemapping/NoQC_single_effect/8_27515963-29469590.noQC.univariate_single_effect.rds</td><td>GWAS/finemapping/2024_04/RSS_QC_RAISS_imputed.chr8_27515963_29469590.univariate_susie_rss.rds</td></tr>\n",
       "\t<tr><th scope=row>236</th><td>AD_Wightman_Full_2021                  </td><td>8_27515963_29469590</td><td>8</td><td>analysis_result/AD_GWAS_finemapping/NoQC_single_effect/8_27515963-29469590.noQC.univariate_single_effect.rds</td><td>GWAS/finemapping/2024_04/RSS_QC_RAISS_imputed.chr8_27515963_29469590.univariate_susie_rss.rds</td></tr>\n",
       "\t<tr><th scope=row>237</th><td>AD_Wightman_Excluding23andMe_2021      </td><td>8_27515963_29469590</td><td>8</td><td>analysis_result/AD_GWAS_finemapping/NoQC_single_effect/8_27515963-29469590.noQC.univariate_single_effect.rds</td><td>GWAS/finemapping/2024_04/RSS_QC_RAISS_imputed.chr8_27515963_29469590.univariate_susie_rss.rds</td></tr>\n",
       "\t<tr><th scope=row>238</th><td>AD_Wightman_ExcludingUKBand23andME_2021</td><td>8_27515963_29469590</td><td>8</td><td>analysis_result/AD_GWAS_finemapping/NoQC_single_effect/8_27515963-29469590.noQC.univariate_single_effect.rds</td><td>GWAS/finemapping/2024_04/RSS_QC_RAISS_imputed.chr8_27515963_29469590.univariate_susie_rss.rds</td></tr>\n",
       "\t<tr><th scope=row>239</th><td>AD_Bellenguez_2022                     </td><td>8_93290173_95220317</td><td>8</td><td>analysis_result/AD_GWAS_finemapping/NoQC_single_effect/8_93290173-95220317.noQC.univariate_single_effect.rds</td><td>GWAS/finemapping/2024_04/RSS_QC_RAISS_imputed.chr8_93290173_95220317.univariate_susie_rss.rds</td></tr>\n",
       "</tbody>\n",
       "</table>\n"
      ],
      "text/latex": [
       "A data.frame: 6 x 5\n",
       "\\begin{tabular}{r|lllll}\n",
       "  & study & block & chrom & single\\_path & finemap\\_path\\\\\n",
       "  & <chr> & <chr> & <chr> & <chr> & <chr>\\\\\n",
       "\\hline\n",
       "\t234 & AD\\_Jansen\\_2021                          & 8\\_27515963\\_29469590 & 8 & analysis\\_result/AD\\_GWAS\\_finemapping/NoQC\\_single\\_effect/8\\_27515963-29469590.noQC.univariate\\_single\\_effect.rds & GWAS/finemapping/2024\\_04/RSS\\_QC\\_RAISS\\_imputed.chr8\\_27515963\\_29469590.univariate\\_susie\\_rss.rds\\\\\n",
       "\t235 & AD\\_Kunkle\\_Stage1\\_2019                   & 8\\_27515963\\_29469590 & 8 & analysis\\_result/AD\\_GWAS\\_finemapping/NoQC\\_single\\_effect/8\\_27515963-29469590.noQC.univariate\\_single\\_effect.rds & GWAS/finemapping/2024\\_04/RSS\\_QC\\_RAISS\\_imputed.chr8\\_27515963\\_29469590.univariate\\_susie\\_rss.rds\\\\\n",
       "\t236 & AD\\_Wightman\\_Full\\_2021                   & 8\\_27515963\\_29469590 & 8 & analysis\\_result/AD\\_GWAS\\_finemapping/NoQC\\_single\\_effect/8\\_27515963-29469590.noQC.univariate\\_single\\_effect.rds & GWAS/finemapping/2024\\_04/RSS\\_QC\\_RAISS\\_imputed.chr8\\_27515963\\_29469590.univariate\\_susie\\_rss.rds\\\\\n",
       "\t237 & AD\\_Wightman\\_Excluding23andMe\\_2021       & 8\\_27515963\\_29469590 & 8 & analysis\\_result/AD\\_GWAS\\_finemapping/NoQC\\_single\\_effect/8\\_27515963-29469590.noQC.univariate\\_single\\_effect.rds & GWAS/finemapping/2024\\_04/RSS\\_QC\\_RAISS\\_imputed.chr8\\_27515963\\_29469590.univariate\\_susie\\_rss.rds\\\\\n",
       "\t238 & AD\\_Wightman\\_ExcludingUKBand23andME\\_2021 & 8\\_27515963\\_29469590 & 8 & analysis\\_result/AD\\_GWAS\\_finemapping/NoQC\\_single\\_effect/8\\_27515963-29469590.noQC.univariate\\_single\\_effect.rds & GWAS/finemapping/2024\\_04/RSS\\_QC\\_RAISS\\_imputed.chr8\\_27515963\\_29469590.univariate\\_susie\\_rss.rds\\\\\n",
       "\t239 & AD\\_Bellenguez\\_2022                      & 8\\_93290173\\_95220317 & 8 & analysis\\_result/AD\\_GWAS\\_finemapping/NoQC\\_single\\_effect/8\\_93290173-95220317.noQC.univariate\\_single\\_effect.rds & GWAS/finemapping/2024\\_04/RSS\\_QC\\_RAISS\\_imputed.chr8\\_93290173\\_95220317.univariate\\_susie\\_rss.rds\\\\\n",
       "\\end{tabular}\n"
      ],
      "text/markdown": [
       "\n",
       "A data.frame: 6 x 5\n",
       "\n",
       "| <!--/--> | study &lt;chr&gt; | block &lt;chr&gt; | chrom &lt;chr&gt; | single_path &lt;chr&gt; | finemap_path &lt;chr&gt; |\n",
       "|---|---|---|---|---|---|\n",
       "| 234 | AD_Jansen_2021                          | 8_27515963_29469590 | 8 | analysis_result/AD_GWAS_finemapping/NoQC_single_effect/8_27515963-29469590.noQC.univariate_single_effect.rds | GWAS/finemapping/2024_04/RSS_QC_RAISS_imputed.chr8_27515963_29469590.univariate_susie_rss.rds |\n",
       "| 235 | AD_Kunkle_Stage1_2019                   | 8_27515963_29469590 | 8 | analysis_result/AD_GWAS_finemapping/NoQC_single_effect/8_27515963-29469590.noQC.univariate_single_effect.rds | GWAS/finemapping/2024_04/RSS_QC_RAISS_imputed.chr8_27515963_29469590.univariate_susie_rss.rds |\n",
       "| 236 | AD_Wightman_Full_2021                   | 8_27515963_29469590 | 8 | analysis_result/AD_GWAS_finemapping/NoQC_single_effect/8_27515963-29469590.noQC.univariate_single_effect.rds | GWAS/finemapping/2024_04/RSS_QC_RAISS_imputed.chr8_27515963_29469590.univariate_susie_rss.rds |\n",
       "| 237 | AD_Wightman_Excluding23andMe_2021       | 8_27515963_29469590 | 8 | analysis_result/AD_GWAS_finemapping/NoQC_single_effect/8_27515963-29469590.noQC.univariate_single_effect.rds | GWAS/finemapping/2024_04/RSS_QC_RAISS_imputed.chr8_27515963_29469590.univariate_susie_rss.rds |\n",
       "| 238 | AD_Wightman_ExcludingUKBand23andME_2021 | 8_27515963_29469590 | 8 | analysis_result/AD_GWAS_finemapping/NoQC_single_effect/8_27515963-29469590.noQC.univariate_single_effect.rds | GWAS/finemapping/2024_04/RSS_QC_RAISS_imputed.chr8_27515963_29469590.univariate_susie_rss.rds |\n",
       "| 239 | AD_Bellenguez_2022                      | 8_93290173_95220317 | 8 | analysis_result/AD_GWAS_finemapping/NoQC_single_effect/8_93290173-95220317.noQC.univariate_single_effect.rds | GWAS/finemapping/2024_04/RSS_QC_RAISS_imputed.chr8_93290173_95220317.univariate_susie_rss.rds |\n",
       "\n"
      ],
      "text/plain": [
       "    study                                   block               chrom\n",
       "234 AD_Jansen_2021                          8_27515963_29469590 8    \n",
       "235 AD_Kunkle_Stage1_2019                   8_27515963_29469590 8    \n",
       "236 AD_Wightman_Full_2021                   8_27515963_29469590 8    \n",
       "237 AD_Wightman_Excluding23andMe_2021       8_27515963_29469590 8    \n",
       "238 AD_Wightman_ExcludingUKBand23andME_2021 8_27515963_29469590 8    \n",
       "239 AD_Bellenguez_2022                      8_93290173_95220317 8    \n",
       "    single_path                                                                                                 \n",
       "234 analysis_result/AD_GWAS_finemapping/NoQC_single_effect/8_27515963-29469590.noQC.univariate_single_effect.rds\n",
       "235 analysis_result/AD_GWAS_finemapping/NoQC_single_effect/8_27515963-29469590.noQC.univariate_single_effect.rds\n",
       "236 analysis_result/AD_GWAS_finemapping/NoQC_single_effect/8_27515963-29469590.noQC.univariate_single_effect.rds\n",
       "237 analysis_result/AD_GWAS_finemapping/NoQC_single_effect/8_27515963-29469590.noQC.univariate_single_effect.rds\n",
       "238 analysis_result/AD_GWAS_finemapping/NoQC_single_effect/8_27515963-29469590.noQC.univariate_single_effect.rds\n",
       "239 analysis_result/AD_GWAS_finemapping/NoQC_single_effect/8_93290173-95220317.noQC.univariate_single_effect.rds\n",
       "    finemap_path                                                                                 \n",
       "234 GWAS/finemapping/2024_04/RSS_QC_RAISS_imputed.chr8_27515963_29469590.univariate_susie_rss.rds\n",
       "235 GWAS/finemapping/2024_04/RSS_QC_RAISS_imputed.chr8_27515963_29469590.univariate_susie_rss.rds\n",
       "236 GWAS/finemapping/2024_04/RSS_QC_RAISS_imputed.chr8_27515963_29469590.univariate_susie_rss.rds\n",
       "237 GWAS/finemapping/2024_04/RSS_QC_RAISS_imputed.chr8_27515963_29469590.univariate_susie_rss.rds\n",
       "238 GWAS/finemapping/2024_04/RSS_QC_RAISS_imputed.chr8_27515963_29469590.univariate_susie_rss.rds\n",
       "239 GWAS/finemapping/2024_04/RSS_QC_RAISS_imputed.chr8_93290173_95220317.univariate_susie_rss.rds"
      ]
     },
     "metadata": {},
     "output_type": "display_data"
    }
   ],
   "source": [
    "tail(meta_file_cloud)"
   ]
  },
  {
   "cell_type": "markdown",
   "id": "fe4f4a54-88a3-4095-b1eb-04cb85e3bb7a",
   "metadata": {
    "kernel": "R"
   },
   "source": [
    "sos run ../project/image_QTL/compare_single_finemap.ipynb susie_plot --meta-file ~/project/image_QTL/finemap_single.tsv --cwd ~/project/image_QTL/plots"
   ]
  },
  {
   "cell_type": "code",
   "execution_count": null,
   "id": "13e0c794-45d8-4dbe-9e63-e51ff36a9f7f",
   "metadata": {
    "kernel": "SoS"
   },
   "outputs": [],
   "source": [
    "[global]\n",
    "parameter: meta_file = path('meta_file_cloud.tsv') # path that contains different finemapping results\n",
    "parameter: cwd = path()\n",
    "\n",
    "import pandas as pd\n",
    "# meta_file = pd.read_csv(meta_file,sep =\"\\t\")\n",
    "chrom = list(set(pd.read_csv(meta_file,sep =\"\\t\")[\"chrom\"]))\n",
    "# chrom = list(set(meta_file[\"chrom\"]))\n",
    "# block = list(set(pd.read_csv(meta_file,sep =\"\\t\")[\"block\"]))\n",
    "# study = list(set(pd.read_csv(meta_file,sep =\"\\t\")[\"study\"]))\n"
   ]
  },
  {
   "cell_type": "code",
   "execution_count": null,
   "id": "1ec5baf9-16f6-4fd8-bb00-b9cdd7938f33",
   "metadata": {
    "kernel": "SoS"
   },
   "outputs": [],
   "source": [
    "[susie_plot]\n",
    "input: meta_file, for_each = \"chrom\"\n",
    "output: f'{cwd}/{_input:bn}.chr{_chrom}.pdf'\n",
    "\n",
    "R:expand = \"${ }\", stdout = f\"{_output[0]:n}.stdout\", stderr = f\"{_output[0]:n}.stderr\"\n",
    "    library(data.table)\n",
    "    library(susieR)\n",
    "\n",
    "    # Function to create plot or placeholder\n",
    "    susie_plot_wrapper = function(res, plot_type = \"PIP\", title = \"No Plot\") {\n",
    "      if (is.null(res)) {\n",
    "        # Create empty plot\n",
    "        plot.new()\n",
    "        title(main = title)\n",
    "      } else {\n",
    "        # Create plot\n",
    "        susie_plot(res, plot_type, main = title)\n",
    "      }\n",
    "    }\n",
    "\n",
    "    # Functions to get susie_result\n",
    "    get_res = function(con_data) {\n",
    "        if (length(con_data) == 0) return(NULL)\n",
    "        \n",
    "        res_name <- names(con_data)[1]\n",
    "        if (length(con_data[[res_name]]) == 0 || \n",
    "            length(con_data[[res_name]]$susie_result_trimmed) == 0) {\n",
    "            return(NULL)\n",
    "            print(paste(\"susie_result is null for\",con_data))\n",
    "        }\n",
    "        \n",
    "        return(con_data[[res_name]]$susie_result_trimmed)\n",
    "    }\n",
    "\n",
    "    tryCatch({\n",
    "        meta_file = fread(\"${meta_file}\", sep = \"\\t\")\n",
    "        if (nrow(meta_file) == 0) {\n",
    "            stop(\"Empty meta file\")\n",
    "        }\n",
    "        # Filter for current chromosome\n",
    "        meta_file = meta_file[chrom == ${_chrom}]\n",
    "        message(sprintf(\"Processing chromosome %s with %d rows\", ${_chrom}, nrow(meta_file)))\n",
    "    }, error = function(e) {\n",
    "        stop(paste(\"Failed to read meta file:\", e$message))\n",
    "    })\n",
    "    # Calculate dimensions for the plot layout\n",
    "    blocks = unique(meta_file$block)\n",
    "    studies = unique(meta_file$study)\n",
    "    n_blocks = length(blocks)\n",
    "    n_studies = length(studies)\n",
    "\n",
    "    pdf(file = \"${_output}\", height = 10 * n_blocks, width = 5 * n_studies, compress = TRUE)\n",
    "\n",
    "    # Create a layout matrix where each row represents a study\n",
    "    # and each row pair represents a block's finemap and single plots\n",
    "    layout_matrix = matrix(0, nrow = 2 * n_studies, ncol = n_blocks)\n",
    "    plot_counter = 1\n",
    "    \n",
    "    # Initialize layout matrix\n",
    "    for (j in 1:n_studies) {\n",
    "        for (i in 1:n_blocks) {\n",
    "            layout_matrix[2*j-1, i] = plot_counter\n",
    "            layout_matrix[2*j, i] = plot_counter + 1\n",
    "            plot_counter = plot_counter + 2\n",
    "        }\n",
    "    }\n",
    "    layout(layout_matrix)\n",
    "\n",
    "    # Set plot parameters\n",
    "    par(mar = c(2,2,2,2))\n",
    "    par(pty = \"s\")\n",
    "    # par(oma = c(0,0,0,0))\n",
    "    # par(pin = c(3,3))\n",
    "    # par(ps = 10)\n",
    "    # par(cex = 1)\n",
    "    # par(cex.axis = 1)\n",
    "    # par(cex.lab = 1)\n",
    "    # par(cex.main = 1.2)\n",
    "    print(blocks)\n",
    "    print(studies)\n",
    "    # Create plots block by block\n",
    "    for (b in blocks) {\n",
    "        for (s in studies) {\n",
    "            # Get the row for current block and study if it exists\n",
    "            row = meta_file[which(meta_file$block == b & meta_file$study == s),]\n",
    "            print(\"nrow\")\n",
    "            print(nrow(row))\n",
    "\n",
    "            if (nrow(row) == 0) {\n",
    "                # If no data for this block-study combination, create empty plots\n",
    "                plot.new()\n",
    "                title(main = paste(\"No Finemap Data\\n\", b, \":\", s))\n",
    "                plot.new()\n",
    "                title(main = paste(\"No Single Data\\n\", b, \":\", s))\n",
    "                next\n",
    "            }\n",
    "\n",
    "            # Check and read single effect file\n",
    "          single_data <- NULL\n",
    "          if (!is.na(row$single_path) && file.exists(row$single_path)) {\n",
    "              tryCatch({\n",
    "                single_data = readRDS(row$single_path)\n",
    "                # single_data = extract_layer(single_data, studies)\n",
    "              }, error = function(e) {\n",
    "                message(sprintf(\"Error reading single effect file for %s in %s: %s\", \n",
    "                                b, s, e$message))\n",
    "              })\n",
    "          } else {\n",
    "              message(sprintf(\"Single effect file path is NA or does not exist for %s in %s\", row$block, s))\n",
    "          }\n",
    "            \n",
    "          # Check and read finemapping file\n",
    "          finemap_data <- NULL\n",
    "          if (!is.na(row$finemap_path) && file.exists(row$finemap_path)) {\n",
    "              tryCatch({\n",
    "                finemap_data = readRDS(row$finemap_path)\n",
    "                # finemap_data = extract_layer(finemap_data, studies)\n",
    "              }, error = function(e) {\n",
    "                message(sprintf(\"Error reading finemapping file for %s in %s: %s\", \n",
    "                                b, s, e$message))\n",
    "              })\n",
    "          } else {\n",
    "              message(sprintf(\"Finemapping file path is NA or does not exist for %s in %s\", \n",
    "                              b, s))\n",
    "          }\n",
    "          \n",
    "          \n",
    "          \n",
    "          # Create plots organized by block and study\n",
    "          finemap_con_data = finemap_data[[s]]\n",
    "          print(str(finemap_con_data))\n",
    "          finemap_res = get_res(finemap_con_data)\n",
    "          # Create PIP plot\n",
    "          susie_plot_wrapper(finemap_res, \"PIP\", paste(\"Finemap PIP:\", s, \":\", b))\n",
    "          # Get corresponding results\n",
    "          single_con_data = single_data[[s]]\n",
    "          print(str(single_con_data))\n",
    "          single_res = get_res(single_con_data)\n",
    "          # Create PIP plot\n",
    "          susie_plot_wrapper(single_res, \"PIP\", paste(\"Single PIP:\", s, \":\", b))\n",
    "        }\n",
    "    }\n",
    "    dev.off()"
   ]
  }
 ],
 "metadata": {
  "kernelspec": {
   "display_name": "SoS",
   "language": "sos",
   "name": "sos"
  },
  "language_info": {
   "codemirror_mode": "sos",
   "file_extension": ".sos",
   "mimetype": "text/x-sos",
   "name": "sos",
   "nbconvert_exporter": "sos_notebook.converter.SoS_Exporter",
   "pygments_lexer": "sos"
  },
  "sos": {
   "kernels": [
    [
     "R",
     "ir",
     "R",
     "#DCDCDA",
     "r"
    ],
    [
     "SoS",
     "sos",
     "sos",
     "",
     "sos"
    ]
   ],
   "version": ""
  }
 },
 "nbformat": 4,
 "nbformat_minor": 5
}
